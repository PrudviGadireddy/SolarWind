{
 "cells": [
  {
   "cell_type": "code",
   "execution_count": 2,
   "id": "9efa8627",
   "metadata": {},
   "outputs": [],
   "source": [
    "import pandas as pd\n",
    "import seaborn as sns\n",
    "import numpy as np\n",
    "sns.set(rc={'figure.figsize':(11.7,8.27)})\n",
    "from sklearn.model_selection import train_test_split\n",
    "from sklearn.linear_model import LinearRegression\n",
    "from sklearn import metrics\n",
    "import matplotlib.pyplot as plt\n"
   ]
  },
  {
   "cell_type": "code",
   "execution_count": 2,
   "id": "1db46bb3",
   "metadata": {},
   "outputs": [],
   "source": [
    "df=pd.read_csv(\"Final Data Sheet.csv\")\n"
   ]
  },
  {
   "cell_type": "code",
   "execution_count": 3,
   "id": "791ae0cb",
   "metadata": {},
   "outputs": [
    {
     "data": {
      "text/html": [
       "<div>\n",
       "<style scoped>\n",
       "    .dataframe tbody tr th:only-of-type {\n",
       "        vertical-align: middle;\n",
       "    }\n",
       "\n",
       "    .dataframe tbody tr th {\n",
       "        vertical-align: top;\n",
       "    }\n",
       "\n",
       "    .dataframe thead th {\n",
       "        text-align: right;\n",
       "    }\n",
       "</style>\n",
       "<table border=\"1\" class=\"dataframe\">\n",
       "  <thead>\n",
       "    <tr style=\"text-align: right;\">\n",
       "      <th></th>\n",
       "      <th>ACE_Bx</th>\n",
       "      <th>ACE_By</th>\n",
       "      <th>ACE_Bz</th>\n",
       "      <th>ACE_x</th>\n",
       "      <th>ACE_y</th>\n",
       "      <th>ACE_z</th>\n",
       "      <th>ACE_Vx</th>\n",
       "      <th>ACE_Temp</th>\n",
       "      <th>MMS_x</th>\n",
       "      <th>MMS_y</th>\n",
       "      <th>MMS_z</th>\n",
       "      <th>Delay</th>\n",
       "    </tr>\n",
       "  </thead>\n",
       "  <tbody>\n",
       "    <tr>\n",
       "      <th>0</th>\n",
       "      <td>1.488999963</td>\n",
       "      <td>-2.039000034</td>\n",
       "      <td>-0.856999993</td>\n",
       "      <td>1447132</td>\n",
       "      <td>-248737</td>\n",
       "      <td>115698</td>\n",
       "      <td>-366.5889893</td>\n",
       "      <td>47278.19922</td>\n",
       "      <td>145278.9672</td>\n",
       "      <td>18583.54091</td>\n",
       "      <td>38541.86319</td>\n",
       "      <td>64.5</td>\n",
       "    </tr>\n",
       "    <tr>\n",
       "      <th>1</th>\n",
       "      <td>1.368062511</td>\n",
       "      <td>-1.945250012</td>\n",
       "      <td>-1.30043754</td>\n",
       "      <td>1447131.297</td>\n",
       "      <td>-248737</td>\n",
       "      <td>115697.5313</td>\n",
       "      <td>-366.4565668</td>\n",
       "      <td>47424.09766</td>\n",
       "      <td>145285.3059</td>\n",
       "      <td>18591.37833</td>\n",
       "      <td>38545.29453</td>\n",
       "      <td>NaN</td>\n",
       "    </tr>\n",
       "    <tr>\n",
       "      <th>2</th>\n",
       "      <td>1.334624976</td>\n",
       "      <td>-1.85149999</td>\n",
       "      <td>-1.236375049</td>\n",
       "      <td>1447130.594</td>\n",
       "      <td>-248737</td>\n",
       "      <td>115697.0625</td>\n",
       "      <td>-366.3241444</td>\n",
       "      <td>47569.99609</td>\n",
       "      <td>145291.6447</td>\n",
       "      <td>18599.21576</td>\n",
       "      <td>38548.72587</td>\n",
       "      <td>NaN</td>\n",
       "    </tr>\n",
       "    <tr>\n",
       "      <th>3</th>\n",
       "      <td>1.251375027</td>\n",
       "      <td>-1.979562566</td>\n",
       "      <td>-1.037750013</td>\n",
       "      <td>1447129.891</td>\n",
       "      <td>-248737</td>\n",
       "      <td>115696.5938</td>\n",
       "      <td>-366.1917219</td>\n",
       "      <td>47715.89453</td>\n",
       "      <td>145297.976</td>\n",
       "      <td>18607.05216</td>\n",
       "      <td>38552.15522</td>\n",
       "      <td>NaN</td>\n",
       "    </tr>\n",
       "    <tr>\n",
       "      <th>4</th>\n",
       "      <td>1.125</td>\n",
       "      <td>-2.29400003</td>\n",
       "      <td>-0.410750017</td>\n",
       "      <td>1447129.188</td>\n",
       "      <td>-248737</td>\n",
       "      <td>115696.125</td>\n",
       "      <td>-366.0592995</td>\n",
       "      <td>47861.79297</td>\n",
       "      <td>145304.3073</td>\n",
       "      <td>18614.88856</td>\n",
       "      <td>38555.58458</td>\n",
       "      <td>NaN</td>\n",
       "    </tr>\n",
       "  </tbody>\n",
       "</table>\n",
       "</div>"
      ],
      "text/plain": [
       "        ACE_Bx        ACE_By        ACE_Bz        ACE_x    ACE_y        ACE_z  \\\n",
       "0  1.488999963  -2.039000034  -0.856999993      1447132  -248737       115698   \n",
       "1  1.368062511  -1.945250012   -1.30043754  1447131.297  -248737  115697.5313   \n",
       "2  1.334624976   -1.85149999  -1.236375049  1447130.594  -248737  115697.0625   \n",
       "3  1.251375027  -1.979562566  -1.037750013  1447129.891  -248737  115696.5938   \n",
       "4        1.125   -2.29400003  -0.410750017  1447129.188  -248737   115696.125   \n",
       "\n",
       "         ACE_Vx     ACE_Temp        MMS_x        MMS_y        MMS_z Delay  \n",
       "0  -366.5889893  47278.19922  145278.9672  18583.54091  38541.86319  64.5  \n",
       "1  -366.4565668  47424.09766  145285.3059  18591.37833  38545.29453   NaN  \n",
       "2  -366.3241444  47569.99609  145291.6447  18599.21576  38548.72587   NaN  \n",
       "3  -366.1917219  47715.89453   145297.976  18607.05216  38552.15522   NaN  \n",
       "4  -366.0592995  47861.79297  145304.3073  18614.88856  38555.58458   NaN  "
      ]
     },
     "execution_count": 3,
     "metadata": {},
     "output_type": "execute_result"
    }
   ],
   "source": [
    "df.head()\n"
   ]
  },
  {
   "cell_type": "code",
   "execution_count": 4,
   "id": "6651618a",
   "metadata": {},
   "outputs": [],
   "source": [
    "# These steps are required to remove the column names after every block (as they are not required)\n",
    "# Start with the first column that is replaced by zero to get the exact index position for every row with column name\n",
    "df[\"ACE_Bx\"]=df[\"ACE_Bx\"].replace(\"ACE_Bx\",0)\n"
   ]
  },
  {
   "cell_type": "code",
   "execution_count": 5,
   "id": "e22e1a50",
   "metadata": {},
   "outputs": [
    {
     "data": {
      "text/html": [
       "<div>\n",
       "<style scoped>\n",
       "    .dataframe tbody tr th:only-of-type {\n",
       "        vertical-align: middle;\n",
       "    }\n",
       "\n",
       "    .dataframe tbody tr th {\n",
       "        vertical-align: top;\n",
       "    }\n",
       "\n",
       "    .dataframe thead th {\n",
       "        text-align: right;\n",
       "    }\n",
       "</style>\n",
       "<table border=\"1\" class=\"dataframe\">\n",
       "  <thead>\n",
       "    <tr style=\"text-align: right;\">\n",
       "      <th></th>\n",
       "      <th>ACE_Bx</th>\n",
       "      <th>ACE_By</th>\n",
       "      <th>ACE_Bz</th>\n",
       "      <th>ACE_x</th>\n",
       "      <th>ACE_y</th>\n",
       "      <th>ACE_z</th>\n",
       "      <th>ACE_Vx</th>\n",
       "      <th>ACE_Temp</th>\n",
       "      <th>MMS_x</th>\n",
       "      <th>MMS_y</th>\n",
       "      <th>MMS_z</th>\n",
       "      <th>Delay</th>\n",
       "    </tr>\n",
       "  </thead>\n",
       "  <tbody>\n",
       "    <tr>\n",
       "      <th>80</th>\n",
       "      <td>0</td>\n",
       "      <td>0</td>\n",
       "      <td>0</td>\n",
       "      <td>0</td>\n",
       "      <td>0</td>\n",
       "      <td>0</td>\n",
       "      <td>0</td>\n",
       "      <td>0</td>\n",
       "      <td>0</td>\n",
       "      <td>0</td>\n",
       "      <td>0</td>\n",
       "      <td>0</td>\n",
       "    </tr>\n",
       "    <tr>\n",
       "      <th>161</th>\n",
       "      <td>0</td>\n",
       "      <td>0</td>\n",
       "      <td>0</td>\n",
       "      <td>0</td>\n",
       "      <td>0</td>\n",
       "      <td>0</td>\n",
       "      <td>0</td>\n",
       "      <td>0</td>\n",
       "      <td>0</td>\n",
       "      <td>0</td>\n",
       "      <td>0</td>\n",
       "      <td>0</td>\n",
       "    </tr>\n",
       "    <tr>\n",
       "      <th>242</th>\n",
       "      <td>0</td>\n",
       "      <td>0</td>\n",
       "      <td>0</td>\n",
       "      <td>0</td>\n",
       "      <td>0</td>\n",
       "      <td>0</td>\n",
       "      <td>0</td>\n",
       "      <td>0</td>\n",
       "      <td>0</td>\n",
       "      <td>0</td>\n",
       "      <td>0</td>\n",
       "      <td>0</td>\n",
       "    </tr>\n",
       "    <tr>\n",
       "      <th>323</th>\n",
       "      <td>0</td>\n",
       "      <td>0</td>\n",
       "      <td>0</td>\n",
       "      <td>0</td>\n",
       "      <td>0</td>\n",
       "      <td>0</td>\n",
       "      <td>0</td>\n",
       "      <td>0</td>\n",
       "      <td>0</td>\n",
       "      <td>0</td>\n",
       "      <td>0</td>\n",
       "      <td>0</td>\n",
       "    </tr>\n",
       "    <tr>\n",
       "      <th>404</th>\n",
       "      <td>0</td>\n",
       "      <td>0</td>\n",
       "      <td>0</td>\n",
       "      <td>0</td>\n",
       "      <td>0</td>\n",
       "      <td>0</td>\n",
       "      <td>0</td>\n",
       "      <td>0</td>\n",
       "      <td>0</td>\n",
       "      <td>0</td>\n",
       "      <td>0</td>\n",
       "      <td>0</td>\n",
       "    </tr>\n",
       "    <tr>\n",
       "      <th>...</th>\n",
       "      <td>...</td>\n",
       "      <td>...</td>\n",
       "      <td>...</td>\n",
       "      <td>...</td>\n",
       "      <td>...</td>\n",
       "      <td>...</td>\n",
       "      <td>...</td>\n",
       "      <td>...</td>\n",
       "      <td>...</td>\n",
       "      <td>...</td>\n",
       "      <td>...</td>\n",
       "      <td>...</td>\n",
       "    </tr>\n",
       "    <tr>\n",
       "      <th>56132</th>\n",
       "      <td>0</td>\n",
       "      <td>0</td>\n",
       "      <td>0</td>\n",
       "      <td>0</td>\n",
       "      <td>0</td>\n",
       "      <td>0</td>\n",
       "      <td>0</td>\n",
       "      <td>0</td>\n",
       "      <td>0</td>\n",
       "      <td>0</td>\n",
       "      <td>0</td>\n",
       "      <td>0</td>\n",
       "    </tr>\n",
       "    <tr>\n",
       "      <th>56213</th>\n",
       "      <td>0</td>\n",
       "      <td>0</td>\n",
       "      <td>0</td>\n",
       "      <td>0</td>\n",
       "      <td>0</td>\n",
       "      <td>0</td>\n",
       "      <td>0</td>\n",
       "      <td>0</td>\n",
       "      <td>0</td>\n",
       "      <td>0</td>\n",
       "      <td>0</td>\n",
       "      <td>0</td>\n",
       "    </tr>\n",
       "    <tr>\n",
       "      <th>56294</th>\n",
       "      <td>0</td>\n",
       "      <td>0</td>\n",
       "      <td>0</td>\n",
       "      <td>0</td>\n",
       "      <td>0</td>\n",
       "      <td>0</td>\n",
       "      <td>0</td>\n",
       "      <td>0</td>\n",
       "      <td>0</td>\n",
       "      <td>0</td>\n",
       "      <td>0</td>\n",
       "      <td>0</td>\n",
       "    </tr>\n",
       "    <tr>\n",
       "      <th>56375</th>\n",
       "      <td>0</td>\n",
       "      <td>0</td>\n",
       "      <td>0</td>\n",
       "      <td>0</td>\n",
       "      <td>0</td>\n",
       "      <td>0</td>\n",
       "      <td>0</td>\n",
       "      <td>0</td>\n",
       "      <td>0</td>\n",
       "      <td>0</td>\n",
       "      <td>0</td>\n",
       "      <td>0</td>\n",
       "    </tr>\n",
       "    <tr>\n",
       "      <th>56456</th>\n",
       "      <td>0</td>\n",
       "      <td>0</td>\n",
       "      <td>0</td>\n",
       "      <td>0</td>\n",
       "      <td>0</td>\n",
       "      <td>0</td>\n",
       "      <td>0</td>\n",
       "      <td>0</td>\n",
       "      <td>0</td>\n",
       "      <td>0</td>\n",
       "      <td>0</td>\n",
       "      <td>0</td>\n",
       "    </tr>\n",
       "  </tbody>\n",
       "</table>\n",
       "<p>697 rows × 12 columns</p>\n",
       "</div>"
      ],
      "text/plain": [
       "       ACE_Bx  ACE_By  ACE_Bz  ACE_x  ACE_y  ACE_z  ACE_Vx  ACE_Temp  MMS_x  \\\n",
       "80          0       0       0      0      0      0       0         0      0   \n",
       "161         0       0       0      0      0      0       0         0      0   \n",
       "242         0       0       0      0      0      0       0         0      0   \n",
       "323         0       0       0      0      0      0       0         0      0   \n",
       "404         0       0       0      0      0      0       0         0      0   \n",
       "...       ...     ...     ...    ...    ...    ...     ...       ...    ...   \n",
       "56132       0       0       0      0      0      0       0         0      0   \n",
       "56213       0       0       0      0      0      0       0         0      0   \n",
       "56294       0       0       0      0      0      0       0         0      0   \n",
       "56375       0       0       0      0      0      0       0         0      0   \n",
       "56456       0       0       0      0      0      0       0         0      0   \n",
       "\n",
       "       MMS_y  MMS_z  Delay  \n",
       "80         0      0      0  \n",
       "161        0      0      0  \n",
       "242        0      0      0  \n",
       "323        0      0      0  \n",
       "404        0      0      0  \n",
       "...      ...    ...    ...  \n",
       "56132      0      0      0  \n",
       "56213      0      0      0  \n",
       "56294      0      0      0  \n",
       "56375      0      0      0  \n",
       "56456      0      0      0  \n",
       "\n",
       "[697 rows x 12 columns]"
      ]
     },
     "execution_count": 5,
     "metadata": {},
     "output_type": "execute_result"
    }
   ],
   "source": [
    "# and in the code below every other row with column name is replaced by zero (to identify )\n",
    "df_emp=df[df[\"ACE_Bx\"] == 0].replace(df.columns[1:],0)\n",
    "df_emp"
   ]
  },
  {
   "cell_type": "code",
   "execution_count": 6,
   "id": "d554ca66",
   "metadata": {},
   "outputs": [],
   "source": [
    "# Remove the rows with zero ( the column names)\n",
    "df=df.drop(index=df_emp.index.tolist()).reset_index(drop=True)"
   ]
  },
  {
   "cell_type": "code",
   "execution_count": 7,
   "id": "d98a1924",
   "metadata": {},
   "outputs": [
    {
     "name": "stdout",
     "output_type": "stream",
     "text": [
      "ACE_Bx      object\n",
      "ACE_By      object\n",
      "ACE_Bz      object\n",
      "ACE_x       object\n",
      "ACE_y       object\n",
      "ACE_z       object\n",
      "ACE_Vx      object\n",
      "ACE_Temp    object\n",
      "MMS_x       object\n",
      "MMS_y       object\n",
      "MMS_z       object\n",
      "Delay       object\n",
      "dtype: object\n"
     ]
    }
   ],
   "source": [
    "# Convert the data types to float\n",
    "print(df.dtypes)\n"
   ]
  },
  {
   "cell_type": "code",
   "execution_count": 8,
   "id": "a49bc84e",
   "metadata": {},
   "outputs": [],
   "source": [
    "for x in df.columns.tolist():\n",
    "    df[f\"{x}\"]=df[f\"{x}\"].astype(float)"
   ]
  },
  {
   "cell_type": "code",
   "execution_count": 9,
   "id": "7833d9f2",
   "metadata": {},
   "outputs": [
    {
     "name": "stdout",
     "output_type": "stream",
     "text": [
      "ACE_Bx      float64\n",
      "ACE_By      float64\n",
      "ACE_Bz      float64\n",
      "ACE_x       float64\n",
      "ACE_y       float64\n",
      "ACE_z       float64\n",
      "ACE_Vx      float64\n",
      "ACE_Temp    float64\n",
      "MMS_x       float64\n",
      "MMS_y       float64\n",
      "MMS_z       float64\n",
      "Delay       float64\n",
      "dtype: object\n"
     ]
    }
   ],
   "source": [
    "print(df.dtypes)"
   ]
  },
  {
   "cell_type": "code",
   "execution_count": 10,
   "id": "e16f1f9a",
   "metadata": {},
   "outputs": [],
   "source": [
    "df.insert(11, \"Block\", \"Block1\")\n",
    "# add the block column just for identifcation \n",
    "# the block can also be used to avergae if required"
   ]
  },
  {
   "cell_type": "code",
   "execution_count": 11,
   "id": "fca8c239",
   "metadata": {},
   "outputs": [],
   "source": [
    "# LOGIC TO FILL IN THE DELAY_VALUE FOR EVERY BLOCK\n",
    "\n",
    "initial_index=0\n",
    "block_index=1\n",
    "final_index=80\n",
    "while final_index <= df.shape[0]:\n",
    "    delay_value=df.iloc[initial_index,-1]\n",
    "    df.iloc[initial_index:final_index,-1]=delay_value\n",
    "    df.iloc[initial_index:final_index,-2]=f\"Block {block_index}\"\n",
    "    initial_index+=80\n",
    "    final_index+=80\n",
    "    block_index+=1\n",
    "    \n",
    "    "
   ]
  },
  {
   "cell_type": "code",
   "execution_count": 12,
   "id": "069c28a4",
   "metadata": {},
   "outputs": [
    {
     "data": {
      "text/html": [
       "<div>\n",
       "<style scoped>\n",
       "    .dataframe tbody tr th:only-of-type {\n",
       "        vertical-align: middle;\n",
       "    }\n",
       "\n",
       "    .dataframe tbody tr th {\n",
       "        vertical-align: top;\n",
       "    }\n",
       "\n",
       "    .dataframe thead th {\n",
       "        text-align: right;\n",
       "    }\n",
       "</style>\n",
       "<table border=\"1\" class=\"dataframe\">\n",
       "  <thead>\n",
       "    <tr style=\"text-align: right;\">\n",
       "      <th></th>\n",
       "      <th>ACE_Bx</th>\n",
       "      <th>ACE_By</th>\n",
       "      <th>ACE_Bz</th>\n",
       "      <th>ACE_x</th>\n",
       "      <th>ACE_y</th>\n",
       "      <th>ACE_z</th>\n",
       "      <th>ACE_Vx</th>\n",
       "      <th>ACE_Temp</th>\n",
       "      <th>MMS_x</th>\n",
       "      <th>MMS_y</th>\n",
       "      <th>MMS_z</th>\n",
       "      <th>Block</th>\n",
       "      <th>Delay</th>\n",
       "    </tr>\n",
       "  </thead>\n",
       "  <tbody>\n",
       "    <tr>\n",
       "      <th>55835</th>\n",
       "      <td>1.639250</td>\n",
       "      <td>2.642812</td>\n",
       "      <td>-1.282750</td>\n",
       "      <td>1415256.609</td>\n",
       "      <td>-193679.0469</td>\n",
       "      <td>38754.4375</td>\n",
       "      <td>-391.548300</td>\n",
       "      <td>38419.15753</td>\n",
       "      <td>154057.5081</td>\n",
       "      <td>-11224.72079</td>\n",
       "      <td>44372.46083</td>\n",
       "      <td>Block 698</td>\n",
       "      <td>56.25</td>\n",
       "    </tr>\n",
       "    <tr>\n",
       "      <th>55836</th>\n",
       "      <td>1.675000</td>\n",
       "      <td>2.629500</td>\n",
       "      <td>-1.169500</td>\n",
       "      <td>1415256.375</td>\n",
       "      <td>-193677.8750</td>\n",
       "      <td>38753.5000</td>\n",
       "      <td>-391.586383</td>\n",
       "      <td>38502.84529</td>\n",
       "      <td>154059.2446</td>\n",
       "      <td>-11218.35104</td>\n",
       "      <td>44373.92096</td>\n",
       "      <td>Block 698</td>\n",
       "      <td>56.25</td>\n",
       "    </tr>\n",
       "    <tr>\n",
       "      <th>55837</th>\n",
       "      <td>1.658688</td>\n",
       "      <td>2.637188</td>\n",
       "      <td>-1.132375</td>\n",
       "      <td>1415256.141</td>\n",
       "      <td>-193676.7031</td>\n",
       "      <td>38752.5625</td>\n",
       "      <td>-391.624465</td>\n",
       "      <td>38586.53306</td>\n",
       "      <td>154060.9745</td>\n",
       "      <td>-11211.98084</td>\n",
       "      <td>44375.37917</td>\n",
       "      <td>Block 698</td>\n",
       "      <td>56.25</td>\n",
       "    </tr>\n",
       "    <tr>\n",
       "      <th>55838</th>\n",
       "      <td>1.695625</td>\n",
       "      <td>2.681250</td>\n",
       "      <td>-1.063375</td>\n",
       "      <td>1415255.813</td>\n",
       "      <td>-193675.5313</td>\n",
       "      <td>38751.6250</td>\n",
       "      <td>-391.662547</td>\n",
       "      <td>38670.22082</td>\n",
       "      <td>154062.7044</td>\n",
       "      <td>-11205.61064</td>\n",
       "      <td>44376.83739</td>\n",
       "      <td>Block 698</td>\n",
       "      <td>56.25</td>\n",
       "    </tr>\n",
       "    <tr>\n",
       "      <th>55839</th>\n",
       "      <td>1.704375</td>\n",
       "      <td>2.710938</td>\n",
       "      <td>-0.892438</td>\n",
       "      <td>1415255.344</td>\n",
       "      <td>-193674.3594</td>\n",
       "      <td>38750.6875</td>\n",
       "      <td>-391.700629</td>\n",
       "      <td>38753.90859</td>\n",
       "      <td>154064.4278</td>\n",
       "      <td>-11199.23999</td>\n",
       "      <td>44378.29367</td>\n",
       "      <td>Block 698</td>\n",
       "      <td>56.25</td>\n",
       "    </tr>\n",
       "  </tbody>\n",
       "</table>\n",
       "</div>"
      ],
      "text/plain": [
       "         ACE_Bx    ACE_By    ACE_Bz        ACE_x        ACE_y       ACE_z  \\\n",
       "55835  1.639250  2.642812 -1.282750  1415256.609 -193679.0469  38754.4375   \n",
       "55836  1.675000  2.629500 -1.169500  1415256.375 -193677.8750  38753.5000   \n",
       "55837  1.658688  2.637188 -1.132375  1415256.141 -193676.7031  38752.5625   \n",
       "55838  1.695625  2.681250 -1.063375  1415255.813 -193675.5313  38751.6250   \n",
       "55839  1.704375  2.710938 -0.892438  1415255.344 -193674.3594  38750.6875   \n",
       "\n",
       "           ACE_Vx     ACE_Temp        MMS_x        MMS_y        MMS_z  \\\n",
       "55835 -391.548300  38419.15753  154057.5081 -11224.72079  44372.46083   \n",
       "55836 -391.586383  38502.84529  154059.2446 -11218.35104  44373.92096   \n",
       "55837 -391.624465  38586.53306  154060.9745 -11211.98084  44375.37917   \n",
       "55838 -391.662547  38670.22082  154062.7044 -11205.61064  44376.83739   \n",
       "55839 -391.700629  38753.90859  154064.4278 -11199.23999  44378.29367   \n",
       "\n",
       "           Block  Delay  \n",
       "55835  Block 698  56.25  \n",
       "55836  Block 698  56.25  \n",
       "55837  Block 698  56.25  \n",
       "55838  Block 698  56.25  \n",
       "55839  Block 698  56.25  "
      ]
     },
     "execution_count": 12,
     "metadata": {},
     "output_type": "execute_result"
    }
   ],
   "source": [
    "df.tail()"
   ]
  },
  {
   "cell_type": "code",
   "execution_count": null,
   "id": "cafbc855",
   "metadata": {},
   "outputs": [],
   "source": []
  },
  {
   "cell_type": "code",
   "execution_count": 13,
   "id": "746da7e6",
   "metadata": {},
   "outputs": [
    {
     "data": {
      "text/plain": [
       "ACE_Bx      0\n",
       "ACE_By      0\n",
       "ACE_Bz      0\n",
       "ACE_x       0\n",
       "ACE_y       0\n",
       "ACE_z       0\n",
       "ACE_Vx      0\n",
       "ACE_Temp    0\n",
       "MMS_x       0\n",
       "MMS_y       0\n",
       "MMS_z       0\n",
       "Block       0\n",
       "Delay       0\n",
       "dtype: int64"
      ]
     },
     "execution_count": 13,
     "metadata": {},
     "output_type": "execute_result"
    }
   ],
   "source": [
    "# Now the values are filled and the preprocessing is done\n",
    "# We can proceed with adding the heatmap and traning the models\n",
    "df.isna().sum()"
   ]
  },
  {
   "cell_type": "code",
   "execution_count": 14,
   "id": "d0ffbef7",
   "metadata": {},
   "outputs": [
    {
     "data": {
      "text/plain": [
       "<AxesSubplot:>"
      ]
     },
     "execution_count": 14,
     "metadata": {},
     "output_type": "execute_result"
    },
    {
     "data": {
      "image/png": "[encoded data removed]",
      "text/plain": [
       "<Figure size 842.4x595.44 with 2 Axes>"
      ]
     },
     "metadata": {},
     "output_type": "display_data"
    }
   ],
   "source": [
    "# pearson correlation with the pandas corr()\n",
    "features = df.iloc[:,0:-2]\n",
    "sns.heatmap(features.corr(method=\"pearson\"),annot=True,linewidth=0.5)"
   ]
  },
  {
   "cell_type": "code",
   "execution_count": 15,
   "id": "3f551767",
   "metadata": {},
   "outputs": [],
   "source": [
    "# function to compute Average Delay\n",
    "def computeAverageDelay(array):\n",
    "    avg=[]\n",
    "    initial_index=0\n",
    "    final_index=80\n",
    "    while final_index <= array.shape[0]:\n",
    "        avg.append(array[initial_index:final_index].mean())\n",
    "        initial_index+=80\n",
    "        final_index+=80\n",
    "    return (np.array(avg))\n",
    "# evaluate\n",
    "def evaluate(X_train,y_train,y_train_avg,y_pred_avg,model):\n",
    "    accuracy=abs(model.score(X_train,y_train))\n",
    "    rmse = abs(metrics.mean_squared_error(y_train_avg,y_pred_avg,squared=False))\n",
    "    return (accuracy,rmse)"
   ]
  },
  {
   "cell_type": "code",
   "execution_count": 16,
   "id": "d7adec00",
   "metadata": {},
   "outputs": [],
   "source": [
    "# get and X and y\n",
    "X=df.iloc[:,:-2]\n",
    "y=df.iloc[:,-1]\n"
   ]
  },
  {
   "cell_type": "code",
   "execution_count": 17,
   "id": "909cbb8c",
   "metadata": {},
   "outputs": [],
   "source": [
    "#Shuffle needs to be false here to make sure that it is divided block wise\n",
    "# DIVIDE DATA INTO TRAIN AND TEST SPLIT\n",
    "# OF 20 TRAIN AND 80 TEST\n",
    "X_train, X_test, y_train, y_test = train_test_split(\n",
    "    X, y, train_size=0.20, shuffle=False)"
   ]
  },
  {
   "cell_type": "code",
   "execution_count": 18,
   "id": "1863b128",
   "metadata": {},
   "outputs": [
    {
     "data": {
      "text/plain": [
       "LinearRegression()"
      ]
     },
     "execution_count": 18,
     "metadata": {},
     "output_type": "execute_result"
    }
   ],
   "source": [
    "LR20=LinearRegression()\n",
    "LR20.fit(X_train,y_train)"
   ]
  },
  {
   "cell_type": "code",
   "execution_count": 19,
   "id": "ed7902a2",
   "metadata": {},
   "outputs": [],
   "source": [
    "y_pred_train = LR20.predict(X_train)\n",
    "y_pred_train_avg= computeAverageDelay(y_pred_train)\n",
    "\n",
    "y_pred_test = LR20.predict(X_test)\n",
    "y_pred_test_avg= computeAverageDelay(y_pred_test)"
   ]
  },
  {
   "cell_type": "code",
   "execution_count": 20,
   "id": "bbc2a182",
   "metadata": {},
   "outputs": [],
   "source": [
    "y_train_avg =computeAverageDelay(y_train)\n",
    "y_test_avg =computeAverageDelay(y_test)\n",
    "lr20_accuracy_train, lr20_rmse_train= evaluate(X_train,y_train,\n",
    "                              y_train_avg,y_pred_train_avg,LR20)\n",
    "lr20_accuracy_test, lr20_rmse_test= evaluate(X_test,y_test,\n",
    "                              y_test_avg,y_pred_test_avg,LR20)\n",
    "\n"
   ]
  },
  {
   "cell_type": "code",
   "execution_count": 21,
   "id": "45ad3900",
   "metadata": {},
   "outputs": [],
   "source": [
    "# Next do the same process for 50 percent train size\n",
    "X_train, X_test, y_train, y_test = train_test_split(\n",
    "    X, y, train_size=0.50, shuffle=False)\n",
    "\n",
    "LR50=LinearRegression()\n",
    "LR50.fit(X_train,y_train)\n",
    "\n",
    "y_pred_train = LR50.predict(X_train)\n",
    "y_pred_train_avg= computeAverageDelay(y_pred_train)\n",
    "\n",
    "y_pred_test = LR50.predict(X_test)\n",
    "y_pred_test_avg= computeAverageDelay(y_pred_test)\n",
    "\n",
    "y_train_avg =computeAverageDelay(y_train)\n",
    "y_test_avg =computeAverageDelay(y_test)\n",
    "lr50_accuracy_train, lr50_rmse_train= evaluate(X_train,y_train,\n",
    "                              y_train_avg,y_pred_train_avg,LR50)\n",
    "lr50_accuracy_test, lr50_rmse_test= evaluate(X_test,y_test,\n",
    "                              y_test_avg,y_pred_test_avg,LR50)\n"
   ]
  },
  {
   "cell_type": "code",
   "execution_count": 22,
   "id": "d47ae56e",
   "metadata": {},
   "outputs": [],
   "source": [
    "# same process for the 70 percent data\n",
    "X_train, X_test, y_train, y_test = train_test_split(\n",
    "    X, y, train_size=0.70, shuffle=False)\n",
    "\n",
    "LR70=LinearRegression()\n",
    "LR70.fit(X_train,y_train)\n",
    "\n",
    "y_pred_train = LR70.predict(X_train)\n",
    "y_pred_train_avg= computeAverageDelay(y_pred_train)\n",
    "\n",
    "y_pred_test = LR70.predict(X_test)\n",
    "y_pred_test_avg= computeAverageDelay(y_pred_test)\n",
    "\n",
    "y_train_avg =computeAverageDelay(y_train)\n",
    "y_test_avg =computeAverageDelay(y_test)\n",
    "lr70_accuracy_train, lr70_rmse_train= evaluate(X_train,y_train,\n",
    "                              y_train_avg,y_pred_train_avg,LR70)\n",
    "lr70_accuracy_test, lr70_rmse_test= evaluate(X_test,y_test,\n",
    "                              y_test_avg,y_pred_test_avg,LR70)"
   ]
  },
  {
   "cell_type": "code",
   "execution_count": 23,
   "id": "dd9ebe22",
   "metadata": {},
   "outputs": [],
   "source": [
    "# plot the accuracy and rmse for the models\n",
    "# first create the dataframe for it\n",
    "trainSet_metrics = pd.DataFrame({\"Train_Size\":[\"20\",\"50\",\"70\"],\n",
    "             \"Accuracy\":[lr20_accuracy_train,lr50_accuracy_train,lr70_accuracy_train],\n",
    "              \"RMSE\":[lr20_rmse_train,lr50_rmse_train,lr70_rmse_train]})\n",
    "# use log scale to plot on graph\n",
    "testSet_metrics = pd.DataFrame({\"Train_Size\":[\"20\",\"50\",\"70\"],\n",
    "             \"Accuracy\":np.log([lr20_accuracy_test,lr50_accuracy_test,lr70_accuracy_test]),\n",
    "              \"RMSE\":np.log([lr20_rmse_test,lr50_rmse_test,lr70_rmse_test])})"
   ]
  },
  {
   "cell_type": "code",
   "execution_count": 24,
   "id": "b34902ef",
   "metadata": {},
   "outputs": [
    {
     "data": {
      "text/plain": [
       "Text(0.5, 1.0, 'RMSE on train set')"
      ]
     },
     "execution_count": 24,
     "metadata": {},
     "output_type": "execute_result"
    },
    {
     "data": {
      "image/png": "[encoded data removed]",
      "text/plain": [
       "<Figure size 842.4x595.44 with 2 Axes>"
      ]
     },
     "metadata": {},
     "output_type": "display_data"
    }
   ],
   "source": [
    "fig, (ax1, ax2) = plt.subplots(1,2,figsize=(11.7,8.27))\n",
    "sns.barplot(x=\"Train_Size\",y=\"Accuracy\",data=trainSet_metrics,ax=ax1).set_title(\"Accuracy on train set\")\n",
    "sns.barplot(x=\"Train_Size\",y=\"RMSE\",data=trainSet_metrics,ax=ax2).set_title(\"RMSE on train set\")"
   ]
  },
  {
   "cell_type": "code",
   "execution_count": 25,
   "id": "823d193a",
   "metadata": {},
   "outputs": [
    {
     "data": {
      "text/plain": [
       "Text(0.5, 1.0, 'RMSE on test set')"
      ]
     },
     "execution_count": 25,
     "metadata": {},
     "output_type": "execute_result"
    },
    {
     "data": {
      "image/png": "[encoded data removed]",
      "text/plain": [
       "<Figure size 842.4x595.44 with 2 Axes>"
      ]
     },
     "metadata": {},
     "output_type": "display_data"
    }
   ],
   "source": [
    "fig, (ax1, ax2) = plt.subplots(1,2,figsize=(11.7,8.27))\n",
    "sns.barplot(x=\"Train_Size\",y=\"Accuracy\",data=testSet_metrics,ax=ax1).set_title(\"Accuracy on test set\")\n",
    "sns.barplot(x=\"Train_Size\",y=\"RMSE\",data=testSet_metrics,ax=ax2).set_title(\"RMSE on test set\")"
   ]
  },
  {
   "cell_type": "code",
   "execution_count": null,
   "id": "4c2116c4",
   "metadata": {},
   "outputs": [],
   "source": []
  },
  {
   "cell_type": "code",
   "execution_count": null,
   "id": "6acda772",
   "metadata": {},
   "outputs": [],
   "source": []
  }
 ],
 "metadata": {
  "kernelspec": {
   "display_name": "Python 3",
   "language": "python",
   "name": "python3"
  },
  "language_info": {
   "codemirror_mode": {
    "name": "ipython",
    "version": 3
   },
   "file_extension": ".py",
   "mimetype": "text/x-python",
   "name": "python",
   "nbconvert_exporter": "python",
   "pygments_lexer": "ipython3",
   "version": "3.6.13"
  }
 },
 "nbformat": 4,
 "nbformat_minor": 5
}
